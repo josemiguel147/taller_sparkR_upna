{
 "cells": [
  {
   "cell_type": "markdown",
   "metadata": {},
   "source": [
    "# Taller de procesamiento de BigData en Spark + R\n",
    "Manuel Parra (manuelparra@decsai.ugr.es). <a href=\"http://sci2s.ugr.es/es\">Soft Computing and Intelligent Information Systems</a>\n",
    ". <a href=\"http://sci2s.ugr.es/dicits/\">Distributed Computational Intelligence and Time Series</a>. **University of Granada**.\n",
    "![logos](https://sites.google.com/site/manuparra/home/header.png)"
   ]
  },
  {
   "cell_type": "markdown",
   "metadata": {},
   "source": [
    "## Comenzando con el Análisis Interactivo en BigData con Spark"
   ]
  },
  {
   "cell_type": "markdown",
   "metadata": {},
   "source": [
    "Spark soporta Python, Scala, R y Java.\n",
    "\n",
    "Podemos elegir escribir una aplicación completa ``standalone`` o un utilizar cualquiera de los interpretes interactivos que ofrece Spark.\n",
    "\n",
    "Spark pone a tu disposición tres herramientas fundamentales para el análisis interactivo de datos:\n",
    "\n",
    "\n",
    "## R\n",
    "\n",
    "Desde la Máquina Virtual puedes escribir el siguiente comando y pulsar intro (para salir CRTL+D o escribe ``exit``)\n",
    "\n",
    "```\n",
    "sparkR\n",
    "```\n",
    "\n",
    "Esto habilita un shell de ``R`` con una sesión en Spark.\n",
    "\n",
    "<span style=\"background-color:red;color:white\">&nbsp; &nbsp; En el taller usaremos este entorno pero desde los frontends: Jupyter y RStudio ! &nbsp; &nbsp; </span>\n",
    "\n",
    "\n",
    "## Python\n",
    "\n",
    "Desde la Máquina Virtual puedes escribir el siguiente comando y pulsar intro (para salir CRTL+D o escribe ``exit``)\n",
    "\n",
    "```\n",
    "pyspark\n",
    "```\n",
    "\n",
    "Esto habilita un shell de ``python`` con una sesión en Spark.\n",
    "\n",
    "## Scala\n",
    "\n",
    "Desde la Máquina Virtual puedes escribir el siguiente comando y pulsar intro (para salir CRTL+D o escribe ``exit``)\n",
    "\n",
    "```\n",
    "spark-shell\n",
    "```\n",
    "\n",
    "Esto habilita un shell de ``Scala`` con una sesión en Spark.\n"
   ]
  },
  {
   "cell_type": "markdown",
   "metadata": {},
   "source": [
    "<HR>\n",
    "<div style=\"font-family:helvetica;padding:5px;font-size:1.5em;background-color:#CFE7E2\">Ejercicio práctico:</div>\n",
    "\n",
    "Prueba cada uno de las herramientas de analisis interactivo y comprueba están disponibles. Para salir de los interfaces interactivos, utilizad CTRL+D o bien escribe exit.\n",
    "<HR>"
   ]
  }
 ],
 "metadata": {
  "anaconda-cloud": {},
  "kernelspec": {
   "display_name": "R",
   "language": "R",
   "name": "ir"
  },
  "language_info": {
   "codemirror_mode": "r",
   "file_extension": ".r",
   "mimetype": "text/x-r-source",
   "name": "R",
   "pygments_lexer": "r",
   "version": "3.3.1"
  }
 },
 "nbformat": 4,
 "nbformat_minor": 1
}
