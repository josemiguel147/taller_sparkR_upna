{
 "cells": [
  {
   "cell_type": "markdown",
   "metadata": {},
   "source": [
    "# Taller de procesamiento de BigData en Spark + R\n",
    "Manuel Parra (manuelparra@decsai.ugr.es). <a href=\"http://sci2s.ugr.es/es\">Soft Computing and Intelligent Information Systems</a>\n",
    ". <a href=\"http://sci2s.ugr.es/dicits/\">Distributed Computational Intelligence and Time Series</a>. **University of Granada**.\n",
    "![logos](https://sites.google.com/site/manuparra/home/header.png)"
   ]
  },
  {
   "cell_type": "markdown",
   "metadata": {},
   "source": [
    "## Entorno de trabajo del taller"
   ]
  },
  {
   "cell_type": "markdown",
   "metadata": {},
   "source": [
    "Para este taller en la Universidad de Navarra, se ha instalado en cada PC individual una Máquina Virtual con VirtualBox, desde la cual se podrá trabajar con todas las herramientas para el procesamiento de datos masivos.\n",
    "\n",
    "De modo que sólo tendrás que iniciar la Máquina Virtual y seguir estos pasos para habilitar todos los servicios:\n",
    "\n",
    "- Iniciar la Máquina Virtual con el Taller (Spark_R_UPN)-\n",
    "- Introducir los datos de acceso:\n",
    "  - Usuario (login): ``root``\n",
    "  - Clave (password): ``sparkR```\n",
    "- Escribir el siguiente comando y pulsar intro:\n",
    "  - ``iniciar_taller``\n",
    "- Al ejecutar el comando anterior, solicitará la clave de nuevo, por lo que escribimos: ``sparkR``\n",
    "- Esperamos a que termine de ejecutarse el comando y comprobamos que podemos acceder a las siguientes URLs:\n",
    "  - **Jupyter**. Se accede desde: http://192.168.99.10:8888\n",
    "  - **RStudio**. Se accede desde: http://192.168.99.10:8787 El acceso es identificado, luego aquí usa como usuario: ``test`` y clave ``test ``\n",
    "\n",
    "## ¿Qué contiene la máquina virtual?\n",
    "\n",
    "- Hadoop\n",
    "- Spark versión 2.01.\n",
    "- Spark + Python versión 2.7\n",
    "- Spark + R versión 3.3.1\n",
    "- Spark + Scala versión 2.16\n",
    "- Jupyter\n",
    "- RStudio\n",
    "- Zeppelin 0.62\n",
    "\n",
    "Si ya has terminado el taller y quieres seguir trabajando desde casa, revisa la [documentación](#All-in-one) para instalar todo el entorno de trabajo en tu PC de casa.\n",
    "\n"
   ]
  },
  {
   "cell_type": "markdown",
   "metadata": {},
   "source": [
    "# Spark All-in-one"
   ]
  },
  {
   "cell_type": "markdown",
   "metadata": {},
   "source": [
    "La máquina virtual para el taller completo contiene todas las herramientas necesitas para el desarrollo del trabajo, por lo tanto es la opción más sencilla para poder empezar manos a la obra con el contenido, en el caso de que no estés ya en el taller.\n",
    "\n",
    "Requisitos necesarios para trabajar con la Máquina Virtual:\n",
    "\n",
    "- Tener instalado VIRTUALBOX, disponible en: https://www.virtualbox.org/wiki/Downloads\n",
    "- Disponer de al menos 2GB de RAM para la Máquina Virtual\n",
    "- El PC debe ser de 64bits y contar con al menos 4GB de RAM (2GB para la MVirtual y otros 2GB para el PC)\n",
    "- Compatible con Windows, Mac OSX y Linux\n",
    "\n",
    "\n",
    "Descarga la máquina virtual del taller: https://drive.google.com/file/d/0ByPBMv-S_GMEakRCVVRTejZKVm8/view?usp=sharing (aprox: 4 GB)\n",
    "\n",
    "Haz doble clic el fichero ``Spark_UPN.ova`` y se instalará la nueva Máquina Virtual en tu sistema. \n",
    "\n",
    "Antes de iniciar la Máquina Virtual desde VirtualBox hay que configurar lo siguientes parámetros dentro de VirtualBox:\n",
    "\n",
    "- Ir al Menu de Preferencias del VirtualBox -> Network (RED) -> Host-only Network (Adaptador sólo Host)\n",
    "- Pulsar en añadir:\n",
    "![logos](https://sites.google.com/site/manuparra/home/steps.png)\n",
    "\n",
    "Utiliza la IP: ``192.168.99.10`` y Mascara de RED ``255.255.255.0``\n",
    "\n",
    "Una vez configurados los parámetros, iniciar la nueva Máquina Virtual (pulsando sobre su icono y \"comenzar\"); al arrancar nos pedirá el LOGIN y USUARIO, para ello hay que usar:\n",
    "\n",
    "```\n",
    "usuario: root\n",
    "clave: sparkR\n",
    "```\n",
    "\n",
    "Hecho esto veremos la siguiente pantalla de información de los servicios que disponemos:\n",
    "\n",
    "![logos](https://sites.google.com/site/manuparra/home/loginupn.png)\n",
    "\n",
    "Para iniciar el entorno de trabajo con la Máquina Virtual, desde el shell, hay que escribir:\n",
    "\n",
    "```\n",
    "iniciar_taller \n",
    "```\n",
    "\n",
    "pulsa intro y espera, te pedirá de nuevo la clave, usa: \n",
    "\n",
    "``sparkR`` \n",
    "\n",
    "Al hacer esto tenemos todos los servicios de Spark funcionado y listos para trabajar.\n",
    "\n",
    "En entorno de trabajo pone a tu disposición dos entornos de programación para  ``R`` y ``Python``:\n",
    "\n",
    "- **Jupyter**. Se accede desde: http://192.168.99.10:8888\n",
    "- **RStudio**. Se accede desde: http://192.168.99.10:8787 El acceso es identificado, luego aquí usa como usuario: ``test`` y clave ``test ``\n",
    "\n",
    "\n",
    "\n",
    "\n",
    "\n",
    "\n",
    "\n",
    "\n",
    "\n",
    "\n"
   ]
  },
  {
   "cell_type": "code",
   "execution_count": null,
   "metadata": {
    "collapsed": true
   },
   "outputs": [],
   "source": []
  }
 ],
 "metadata": {
  "anaconda-cloud": {},
  "kernelspec": {
   "display_name": "R",
   "language": "R",
   "name": "ir"
  },
  "language_info": {
   "codemirror_mode": "r",
   "file_extension": ".r",
   "mimetype": "text/x-r-source",
   "name": "R",
   "pygments_lexer": "r",
   "version": "3.3.1"
  }
 },
 "nbformat": 4,
 "nbformat_minor": 1
}
