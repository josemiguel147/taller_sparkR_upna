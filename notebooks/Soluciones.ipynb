{
 "cells": [
  {
   "cell_type": "markdown",
   "metadata": {},
   "source": [
    "# Taller de procesamiento de BigData en Spark + R\n",
    "Manuel Parra (manuelparra@decsai.ugr.es). <a href=\"http://sci2s.ugr.es/es\">Soft Computing and Intelligent Information Systems</a>\n",
    ". <a href=\"http://sci2s.ugr.es/dicits/\">Distributed Computational Intelligence and Time Series</a>. **University of Granada**.\n",
    "![logos](https://sites.google.com/site/manuparra/home/header.png)"
   ]
  },
  {
   "cell_type": "markdown",
   "metadata": {},
   "source": [
    "## Soluciones"
   ]
  },
  {
   "cell_type": "markdown",
   "metadata": {},
   "source": [
    "<HR>\n",
    "<div style=\"font-family:helvetica;padding:5px;font-size:1.5em;background-color:#CFE7E2\">Ejercicio práctico:</div>\n",
    "\n",
    "Crea una SparkDataDrame que se llame ``sql_nyc`` y que tenga una nueva columna que calcule el tiempo de cada viaje en segundos; llama a esa nueva columna ``trip_time`` y contenga los campos: ``VendorID``, ``passenger_count``,``trip_distance``,``total_amount```\n",
    "\n",
    "Pista: INT(unix_timestamp(tpep_dropoff_datetime)- unix_timestamp(tpep_pickup_datetime))\n",
    "\n",
    "** Necesitamos ese SparkDataFrame para poder seguir con los ejemplos siguientes **\n",
    "<HR>\n"
   ]
  },
  {
   "cell_type": "code",
   "execution_count": null,
   "metadata": {
    "collapsed": true
   },
   "outputs": [],
   "source": [
    "results <- sql(\"select hour(tpep_pickup_datetime)  as hourpick , \n",
    "                            INT(unix_timestamp(tpep_dropoff_datetime)-unix_timestamp(tpep_pickup_datetime))  as timetrip\n",
    "                            from slqdf_filtered_nyc\")\n",
    "\n",
    "createOrReplaceTempView(results,\"hoursday\")\n",
    "\n",
    "res <- sql(\"select hourpick,avg(timetrip)/60.0 as avgtrip from hoursday group by hourpick order by hourpick ASC\")\n",
    "\n",
    "dframeR <- collect(res)\n",
    "\n",
    "library(ggplot2)\n",
    "ggplot(data=dframeR, aes(x=hourpick, y=avgtrip)) +\n",
    "    geom_line() + scale_x_continuous(  breaks = c(0,1,2,3,4,5,6,7,8,9,10,11,12,13,14,15,16,17,18,19,20,21,22,23))+ \n",
    "    geom_point()"
   ]
  },
  {
   "cell_type": "markdown",
   "metadata": {},
   "source": [
    "<HR>\n",
    "<div style=\"font-family:helvetica;padding:5px;font-size:1.5em;background-color:#CFE7E2\">Ejercicio práctico:</div>\n",
    "\n",
    "Compara la media del tiempo de viaje por hora del día e imprime el gráfico resultante.\n",
    "\n",
    "<HR>\n"
   ]
  },
  {
   "cell_type": "code",
   "execution_count": null,
   "metadata": {
    "collapsed": true
   },
   "outputs": [],
   "source": [
    "# Hacemos una selección de los registros, donde calculamos el tiempo del viaje de cada viaje\n",
    "sql_nyc <- sql(\"select VendorID,INT(unix_timestamp(tpep_dropoff_datetime)- unix_timestamp(tpep_pickup_datetime)) AS trip_time,passenger_count,trip_distance,total_amount from slqdf_filtered_nyc\")\n",
    "\n",
    "# Vemos los resultados\n",
    "head(sql_nyc)\n",
    "\n",
    "# Almacenamos en una vista que se llame \n",
    "createOrReplaceTempView(sql_nyc,\"sql_nyc\")"
   ]
  },
  {
   "cell_type": "markdown",
   "metadata": {},
   "source": [
    "<HR>\n",
    "<div style=\"font-family:helvetica;padding:5px;font-size:1.5em;background-color:#CFE7E2\">Ejercicio práctico:</div>\n",
    "\n",
    "¿Existe alguna correlación entre ``age`` y ``heartrate``?\n",
    "\n",
    "<HR>\n"
   ]
  },
  {
   "cell_type": "code",
   "execution_count": null,
   "metadata": {
    "collapsed": true
   },
   "outputs": [],
   "source": [
    "res_heart <- sql(\"SELECT corr(age, heartrate) from heart\")\n",
    "\n",
    "head(res_heart)"
   ]
  },
  {
   "cell_type": "markdown",
   "metadata": {},
   "source": [
    "<HR>\n",
    "<div style=\"font-family:helvetica;padding:5px;font-size:1.5em;background-color:#CFE7E2\">Ejercicio práctico:</div>\n",
    "\n",
    "¿Cuántos individuos hay por clase y por sexo?\n",
    "\n",
    "\n",
    "<HR>\n"
   ]
  },
  {
   "cell_type": "code",
   "execution_count": 1,
   "metadata": {
    "collapsed": false
   },
   "outputs": [
    {
     "ename": "ERROR",
     "evalue": "Error in eval(expr, envir, enclos): no se pudo encontrar la función \"sql\"\n",
     "output_type": "error",
     "traceback": [
      "Error in eval(expr, envir, enclos): no se pudo encontrar la función \"sql\"\nTraceback:\n"
     ]
    }
   ],
   "source": [
    "res_heart <- sql(\"SELECT sex, class, count(*) from heart group by sex, class\")\n",
    "\n",
    "head(res_heart)"
   ]
  },
  {
   "cell_type": "markdown",
   "metadata": {},
   "source": [
    "\n",
    "<HR>\n",
    "<div style=\"font-family:helvetica;padding:5px;font-size:1.5em;background-color:#CFE7E2\">Ejercicio práctico:</div>\n",
    "\n",
    "Selecciona todos los viajes que se hacen desde las 10 de la noche a las 6 de la mañana que tienen más de 3 pasajeros\n",
    "\n",
    "<HR>\n",
    "\n"
   ]
  },
  {
   "cell_type": "code",
   "execution_count": null,
   "metadata": {
    "collapsed": true
   },
   "outputs": [],
   "source": [
    "head(filter(df_nyctrips, (hour(df_nyctrips$tpep_pickup_datetime) >=22  & hour(df_nyctrips$tpep_pickup_datetime) <= 23) | hour(df_nyctrips$tpep_pickup_datetime) >=0  & hour(df_nyctrips$tpep_pickup_datetime) <= 6  ))"
   ]
  }
 ],
 "metadata": {
  "anaconda-cloud": {},
  "kernelspec": {
   "display_name": "R",
   "language": "R",
   "name": "ir"
  },
  "language_info": {
   "codemirror_mode": "r",
   "file_extension": ".r",
   "mimetype": "text/x-r-source",
   "name": "R",
   "pygments_lexer": "r",
   "version": "3.3.1"
  }
 },
 "nbformat": 4,
 "nbformat_minor": 1
}
