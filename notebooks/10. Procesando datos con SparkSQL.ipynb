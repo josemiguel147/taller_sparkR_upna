{
 "cells": [
  {
   "cell_type": "markdown",
   "metadata": {},
   "source": [
    "# Taller de procesamiento de BigData en Spark + R\n",
    "Manuel Parra (manuelparra@decsai.ugr.es). <a href=\"http://sci2s.ugr.es/es\">Soft Computing and Intelligent Information Systems</a>\n",
    ". <a href=\"http://sci2s.ugr.es/dicits/\">Distributed Computational Intelligence and Time Series</a>. **University of Granada**.\n",
    "![logos](https://sites.google.com/site/manuparra/home/header.png)"
   ]
  },
  {
   "cell_type": "markdown",
   "metadata": {},
   "source": [
    "# Procesando datos con SparkSQL\n"
   ]
  },
  {
   "cell_type": "markdown",
   "metadata": {},
   "source": [
    "SQL (por sus siglas en inglés Structured Query Language; en español lenguaje de consulta estructurada) es un lenguaje específico del dominio que da acceso a un sistema de gestión de bases de datos relacionales que permite especificar diversos tipos de operaciones en ellos. Una de sus características es el manejo del álgebra y el cálculo relacional que permiten efectuar consultas con el fin de recuperar, de forma sencilla, información de bases de datos, así como hacer cambios en ellas.\n",
    "(+info: https://es.wikipedia.org/wiki/SQL)\n",
    "\n",
    "![logos](https://sites.google.com/site/manuparra/home/SQL.gif)\n",
    "\n",
    "** Forma básica: **\n",
    "\n",
    "```\n",
    "SELECT [ALL | DISTINCT ]\n",
    "             <nombre_campo> \n",
    "            FROM <nombre_tabla>                \n",
    "            [WHERE <condición> [{ AND|OR <condición>}]]\n",
    "            [GROUP BY <nombre_campo> [{,<nombre_campo >}]]\n",
    "            [HAVING <condición>[{ AND|OR <condición>}]]\n",
    "            [ORDER BY <nombre_campo>|<indice_campo> [ASC | DESC]\n",
    "                [{,<nombre_campo>|<indice_campo> [ASC | DESC ]}]]\n",
    "```"
   ]
  },
  {
   "cell_type": "markdown",
   "metadata": {},
   "source": [
    "Como siempre para todos nuestros `scripts` con **SparkR**, cargamos la biblioteca, y creamos una nueva sesión de SparkR.\n",
    "\n",
    "En este caso:\n",
    "\n",
    "<span style=\"background-color:red;color:white\">&nbsp; &nbsp; Cuidado con la cantidad de MEMORIA que usamos para esta sección ! &nbsp; &nbsp; </span>"
   ]
  },
  {
   "cell_type": "code",
   "execution_count": null,
   "metadata": {
    "collapsed": false
   },
   "outputs": [],
   "source": [
    "#Fijamos la ruta donde está instalado Spark\n",
    "Sys.setenv(\"SPARK_HOME\"='/usr/local/spark/')\n",
    "\n",
    ".libPaths(c(file.path(Sys.getenv(\"SPARK_HOME\"),\"R/lib/\"),.libPaths()))\n",
    "library(SparkR)\n",
    "sparkR.session(appName=\"EntornoInicio\", master = \"local[*]\", sparkConfig = list(spark.driver.memory = \"1g\"))"
   ]
  },
  {
   "cell_type": "markdown",
   "metadata": {},
   "source": [
    "Los ``SparkDataFrames`` y SparkSQL soportan un alto número de funciones para hacer un procesado de datos estructurado. \n",
    "\n",
    "Vamos a poner en práctica las más utilizadas. La lista completa de operaciones que se pueden aplicar se puede ver desde API de SparkR en https://spark.apache.org/docs/latest/api/R/index.html\n",
    "\n",
    "![funcSparkR](https://sites.google.com/site/manuparra/home/functionSparkR.jpg)\n"
   ]
  },
  {
   "cell_type": "markdown",
   "metadata": {},
   "source": [
    "## Operando con SparkSQL sobre cojuntos masivos de datos.\n",
    "\n",
    "Una utilidad importante de Spark SQL es ejecutar consultas SQL. \n",
    "\n",
    "Spark SQL también se puede utilizar para leer datos de una instalación de HIVE existente. Al ejecutar SQL desde otro lenguaje de programación, los resultados se devolverán como Dataset / DataFrame. También puede interactuar con la interfaz SQL utilizando la línea de comandos o sobre JDBC / ODBC."
   ]
  },
  {
   "cell_type": "markdown",
   "metadata": {},
   "source": [
    "Todas las funciones de manejo de datos que se han usado con SparkR, pueden hacerse de una forma sencilla e intuitiva  con SparkSQL"
   ]
  },
  {
   "cell_type": "code",
   "execution_count": null,
   "metadata": {
    "collapsed": true
   },
   "outputs": [],
   "source": [
    "df_nyctrips <- read.df(\"/SparkR/datasets/yellow_tripdata_2016-02_small1.csv\", \"csv\", header = \"true\", inferSchema = \"true\")"
   ]
  },
  {
   "cell_type": "markdown",
   "metadata": {},
   "source": [
    "** ¿Cómo se crea un vista de un SparkDataFrame? **"
   ]
  },
  {
   "cell_type": "code",
   "execution_count": null,
   "metadata": {
    "collapsed": false
   },
   "outputs": [],
   "source": [
    "# df_nyctrips es nuestro DataFrameSpark de SQL y el nombre que le pondremos a la 'vista' es slqdf_filtered_nyc \n",
    "# y será usado para trabajar desde SPARKSQL.\n",
    "createOrReplaceTempView(df_nyctrips,\"slqdf_filtered_nyc\")"
   ]
  },
  {
   "cell_type": "markdown",
   "metadata": {},
   "source": [
    "Para aplicar una consulta a una vista de un SparkDataFrame usamos la función SQL ``sql`` e indicamos como nombres de las tablas, las vistas que hemos creado de SparkDataFrames disponibles."
   ]
  },
  {
   "cell_type": "code",
   "execution_count": null,
   "metadata": {
    "collapsed": false
   },
   "outputs": [],
   "source": [
    "# Hacemos una consulta para los 3 primeros registros del dataset.\n",
    "results <- sql(\"select * from slqdf_filtered_nyc LIMIT 3 \")\n"
   ]
  },
  {
   "cell_type": "code",
   "execution_count": null,
   "metadata": {
    "collapsed": false
   },
   "outputs": [],
   "source": [
    "# Vemos el resultado.\n",
    "head(results)"
   ]
  },
  {
   "cell_type": "markdown",
   "metadata": {},
   "source": [
    "Buscamos el total de kilómetros recorridos por cada vendedor:"
   ]
  },
  {
   "cell_type": "code",
   "execution_count": null,
   "metadata": {
    "collapsed": false
   },
   "outputs": [],
   "source": [
    "results <- sql(\"select VendorID, SUM(trip_distance) from slqdf_filtered_nyc GROUP BY VendorID \")\n",
    "\n",
    "# Vemos el resultado\n",
    "head(results)"
   ]
  },
  {
   "cell_type": "code",
   "execution_count": null,
   "metadata": {
    "collapsed": false
   },
   "outputs": [],
   "source": [
    "results <- sql(\"select VendorID, SUM(trip_distance) as Dist from slqdf_filtered_nyc GROUP BY VendorID \")\n",
    "\n",
    "# Vemos el resultado\n",
    "head(results)"
   ]
  },
  {
   "cell_type": "markdown",
   "metadata": {},
   "source": [
    "<HR>\n",
    "<div style=\"font-family:helvetica;padding:5px;font-size:1.5em;background-color:#CFE7E2\">Ejercicio práctico:</div>\n",
    "\n",
    "Crea una SparkDataDrame que se llame ``sql_nyc`` y que tenga una nueva columna que calcule el tiempo de cada viaje en segundos; llama a esa nueva columna ``trip_time`` y contenga los campos: ``VendorID``, ``passenger_count``,``trip_distance``,``total_amount```\n",
    "\n",
    "Pista: INT(unix_timestamp(tpep_dropoff_datetime)- unix_timestamp(tpep_pickup_datetime))\n",
    "\n",
    "** Necesitamos ese SparkDataFrame para poder seguir con los ejemplos siguientes **\n",
    "<HR>\n",
    "\n"
   ]
  },
  {
   "cell_type": "markdown",
   "metadata": {},
   "source": [
    "Calculamos el tiempo en segundos consumido en los viajes de cada Vendedor."
   ]
  },
  {
   "cell_type": "code",
   "execution_count": null,
   "metadata": {
    "collapsed": false
   },
   "outputs": [],
   "source": [
    "results <- sql(\"select VendorID, SUM(trip_time) from sql_nyc GROUP BY VendorID \")\n",
    "\n",
    "# Vemos los resultados\n",
    "head(results)"
   ]
  },
  {
   "cell_type": "markdown",
   "metadata": {},
   "source": [
    "Calculamos el tiempo en minutos"
   ]
  },
  {
   "cell_type": "code",
   "execution_count": null,
   "metadata": {
    "collapsed": false
   },
   "outputs": [],
   "source": [
    "results <- sql(\"select VendorID, SUM(trip_time)/60.0 as min_trip from sql_nyc GROUP BY VendorID \")\n",
    "\n",
    "# Vemos los resultados\n",
    "head(results)"
   ]
  },
  {
   "cell_type": "markdown",
   "metadata": {},
   "source": [
    "Buscamos la ganacia total cada vendedor:"
   ]
  },
  {
   "cell_type": "code",
   "execution_count": null,
   "metadata": {
    "collapsed": false
   },
   "outputs": [],
   "source": [
    "results <- sql(\"select VendorID, SUM(total_amount)*1.10373 as Total_Amount_Euro from slqdf_filtered_nyc GROUP BY VendorID \")\n",
    "\n",
    "# Vemos el resultado\n",
    "head(results)"
   ]
  },
  {
   "cell_type": "markdown",
   "metadata": {},
   "source": [
    "Calculamos la media y la desviación típica del tiempo de recorrido y ganancia por numero de personas: "
   ]
  },
  {
   "cell_type": "code",
   "execution_count": null,
   "metadata": {
    "collapsed": false
   },
   "outputs": [],
   "source": [
    "results <- sql(\"select passenger_count, AVG(trip_time), AVG(total_amount) ,AVG(trip_distance)   \n",
    "                from sql_nyc \n",
    "                GROUP BY passenger_count \n",
    "                order by passenger_count ASC \")\n",
    "head(results)"
   ]
  },
  {
   "cell_type": "markdown",
   "metadata": {},
   "source": [
    "Coeficiente de correlación"
   ]
  },
  {
   "cell_type": "code",
   "execution_count": null,
   "metadata": {
    "collapsed": false
   },
   "outputs": [],
   "source": [
    "results <- sql(\"select corr(total_amount,trip_distance) as correlation_coef\n",
    "                from \n",
    "                slqdf_filtered_nyc\")\n",
    "# Ver resultados\n",
    "head(results)"
   ]
  },
  {
   "cell_type": "code",
   "execution_count": null,
   "metadata": {
    "collapsed": false
   },
   "outputs": [],
   "source": [
    "results <- sql(\"select corr(total_amount,trip_time) as correlation_coef\n",
    "                from \n",
    "                sql_nyc\")\n",
    "head(results)"
   ]
  },
  {
   "cell_type": "markdown",
   "metadata": {},
   "source": [
    "<HR>\n",
    "<div style=\"font-family:helvetica;padding:5px;font-size:1.5em;background-color:#CFE7E2\">Pregunta:</div>\n",
    "\n",
    "¿Existe alguna correlación entre tiempo de viaje y distancia de viaje?\n",
    "\n",
    "<HR>"
   ]
  },
  {
   "cell_type": "code",
   "execution_count": null,
   "metadata": {
    "collapsed": false
   },
   "outputs": [],
   "source": [
    "results <- sql(\"select corr(trip_time,trip_distance) as correlation_coef\n",
    "                from \n",
    "                sql_nyc\")\n",
    "head(results)"
   ]
  },
  {
   "cell_type": "markdown",
   "metadata": {},
   "source": [
    "<HR>\n",
    "<div style=\"font-family:helvetica;padding:5px;font-size:1.5em;background-color:#CFE7E2\">Ejercicio práctico:</div>\n",
    "\n",
    "¿ Qué deducimos de estos coeficiente de corelación ?\n",
    "<HR>\n"
   ]
  },
  {
   "cell_type": "markdown",
   "metadata": {},
   "source": [
    "Un ejemplo más completo:\n",
    "\n"
   ]
  },
  {
   "cell_type": "code",
   "execution_count": null,
   "metadata": {
    "collapsed": false
   },
   "outputs": [],
   "source": [
    "# Calculamos el número de viajes por hora del día y los dibujamos:\n",
    "results <- sql(\"select hour(tpep_pickup_datetime)  as hourpick ,count(*) as numtrips from slqdf_filtered_nyc group by  hour(tpep_pickup_datetime) order by hourpick ASC\")\n",
    "\n",
    "dframeR <- collect(results)\n",
    "\n",
    "library(ggplot2)\n",
    "ggplot(data=dframeR, aes(x=hourpick, y=numtrips)) +\n",
    "    geom_line() + scale_x_continuous(  breaks = c(0,1,2,3,4,5,6,7,8,9,10,11,12,13,14,15,16,17,18,19,20,21,22,23))+ \n",
    "    geom_point()"
   ]
  },
  {
   "cell_type": "markdown",
   "metadata": {},
   "source": [
    "<HR>\n",
    "<div style=\"font-family:helvetica;padding:5px;font-size:1.5em;background-color:#CFE7E2\">Ejercicio práctico:</div>\n",
    "\n",
    "Compara la media del tiempo de viaje por hora del día e imprime el gráfico resultante.\n",
    "\n",
    "<HR>\n"
   ]
  },
  {
   "cell_type": "markdown",
   "metadata": {},
   "source": [
    "Ahora utilizamos el conjunto de datos de BNGHeart para realizar un análisis exploratorio."
   ]
  },
  {
   "cell_type": "code",
   "execution_count": null,
   "metadata": {
    "collapsed": false
   },
   "outputs": [],
   "source": [
    "heart_df <- read.df(\"/SparkR/datasets/BNGhearth.dat\", \"csv\", header = \"true\", inferSchema = \"true\")\n",
    "\n",
    "printSchema(heart_df)\n",
    "\n",
    "head(heart_df)\n",
    "\n",
    "count(heart_df)"
   ]
  },
  {
   "cell_type": "code",
   "execution_count": null,
   "metadata": {
    "collapsed": false
   },
   "outputs": [],
   "source": [
    "# Calculamos por sexos la media de bloodpressure, choresterol y heartrate\n",
    "createOrReplaceTempView(heart_df,\"heart\")\n",
    "\n",
    "res_heart <- sql(\"SELECT sex, avg(bloodpressure),avg(choresterol),avg(heartrate) from heart group by sex\")\n",
    "\n",
    "head(res_heart)"
   ]
  },
  {
   "cell_type": "markdown",
   "metadata": {
    "collapsed": true
   },
   "source": [
    "<HR>\n",
    "<div style=\"font-family:helvetica;padding:5px;font-size:1.5em;background-color:#CFE7E2\">Ejercicio práctico:</div>\n",
    "\n",
    "¿Existe alguna correlación entre ``age`` y ``heartrate``?\n",
    "\n",
    "<HR>\n"
   ]
  },
  {
   "cell_type": "markdown",
   "metadata": {},
   "source": [
    "<HR>\n",
    "<div style=\"font-family:helvetica;padding:5px;font-size:1.5em;background-color:#CFE7E2\">Ejercicio práctico:</div>\n",
    "\n",
    "¿Cuántos individuos hay por clase y por sexo?\n",
    "\n",
    "\n",
    "<HR>\n"
   ]
  }
 ],
 "metadata": {
  "anaconda-cloud": {},
  "kernelspec": {
   "display_name": "R",
   "language": "R",
   "name": "ir"
  },
  "language_info": {
   "codemirror_mode": "r",
   "file_extension": ".r",
   "mimetype": "text/x-r-source",
   "name": "R",
   "pygments_lexer": "r",
   "version": "3.3.1"
  }
 },
 "nbformat": 4,
 "nbformat_minor": 1
}
